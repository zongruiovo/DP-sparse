{
 "cells": [
  {
   "cell_type": "code",
   "execution_count": 10,
   "metadata": {},
   "outputs": [],
   "source": [
    "import networkx as nx\n",
    "import numpy as np\n",
    "import copy\n",
    "from numpy import linalg as LA\n",
    "from numpy import random\n",
    "n = 4039\n",
    "e = 88234\n",
    "average_deg = (2*e)/n\n",
    "# Generating sparse graphs using networkx\n",
    "G = nx.gnp_random_graph(n,average_deg/n)\n",
    "L = nx.laplacian_matrix(G).toarray()\n",
    "rng = np.random.default_rng()\n",
    "\n",
    "# adjusting edge weights\n",
    "for e in G.edges():\n",
    "    G[e[0]][e[1]]['weight'] = 1\n"
   ]
  },
  {
   "cell_type": "code",
   "execution_count": 2,
   "metadata": {},
   "outputs": [],
   "source": [
    "# For JL mechanism, to construct the edge adjacency matrix\n",
    "def construct_edge_matrix(G):\n",
    "    E = np.zeros((n*(n-1)//2, n))\n",
    "    cnt = 0\n",
    "    for e in G.edges():\n",
    "        i = e[0]\n",
    "        j = e[1]\n",
    "        E[cnt][i] = np.sqrt(G[i][j]['weight'])\n",
    "        E[cnt][j] = - np.sqrt(G[i][j]['weight'])\n",
    "        cnt += 1\n",
    "    return E\n"
   ]
  },
  {
   "cell_type": "code",
   "execution_count": 3,
   "metadata": {},
   "outputs": [],
   "source": [
    "# subroutine of random walk\n",
    "def weighted_sample_edges(edge_set):\n",
    "    lit = np.zeros(n*(n-1)//2)\n",
    "    space = {}\n",
    "    current = 0\n",
    "    for choice, weight in edge_set:\n",
    "        if weight > 0:\n",
    "            space[current] = choice\n",
    "            current += weight\n",
    "    rand = random.uniform(0, current)\n",
    "    for key in sorted(space.keys() + [current]):\n",
    "        if rand < key:\n",
    "            return choice\n",
    "        choice = space[key]\n",
    "# sample from a set\n",
    "def sample_set(s,m):\n",
    "    s = list(s)\n",
    "    choice = np.random.randint(0,m)\n",
    "    return s[m]\n",
    "# random walk procedure\n",
    "def random_walk(G):\n",
    "    E = set(G.edges())\n",
    "    m = G.number_of_edge()\n",
    "    t = m*np.log(n)\n",
    "    lit =  lit = np.zeros(n*(n-1)//2)\n",
    "    cnt = 0\n",
    "    for e in G.edges():\n",
    "        lit[cnt] = np.exp(G[e[0]][e[1]]['weight'])\n",
    "    for i in range(0,t):\n",
    "        e = sample_set(E,m)\n",
    "        E.remove(e)\n",
    "    choice = weighted_sample_edges(lit)\n",
    "    E.add(choice)\n",
    "    return E\n",
    "    "
   ]
  },
  {
   "cell_type": "code",
   "execution_count": 15,
   "metadata": {},
   "outputs": [],
   "source": [
    "# High pass filter\n",
    "def alg(G):\n",
    "    for e in G.edges():\n",
    "         G[e[0]][e[1]]['weight'] += np.random.laplace(0, 100)\n",
    "         if G[e[0]][e[1]]['weight'] < 10*np.log(n):\n",
    "              G[e[0]][e[1]]['weight'] = 0"
   ]
  },
  {
   "cell_type": "code",
   "execution_count": null,
   "metadata": {},
   "outputs": [],
   "source": [
    "# Spectral error\n",
    "def spectral_error(L_inverse, u, v):\n",
    "    n = L_inverse.shape[0]\n",
    "    b = np.zeros((n,1))\n",
    "    b[u] = 1\n",
    "    b[v] = -1\n",
    "    return np.dot(np.dot(b.T,L_inverse), b)[0,0]\n",
    "\n",
    "def find_max_spectral_error(L):\n",
    "    L_inverse = np.linalg.pinv(L)\n",
    "    maxx = -1\n",
    "    n = L_inverse.shape[0]\n",
    "    for i in range(n):\n",
    "        for j in range(n):\n",
    "            if i != j:\n",
    "                maxx = max(spectral_error(L_inverse, i, j), maxx)\n",
    "    return maxx"
   ]
  },
  {
   "cell_type": "code",
   "execution_count": 4,
   "metadata": {},
   "outputs": [],
   "source": [
    "# Naive Gaussian mechanism\n",
    "def Gaussian(G):\n",
    "    for i in range(0,n):\n",
    "        for j in range(0,n):\n",
    "            if i<j:\n",
    "                noise = np.random.laplace(0, 1)\n",
    "                if G.has_edge(i,j):\n",
    "                    G[i][j]['weight']  += noise\n",
    "                else:\n",
    "                    G.add_edge(i, j, weight = noise)\n",
    "    return G\n",
    "        "
   ]
  },
  {
   "cell_type": "code",
   "execution_count": 5,
   "metadata": {},
   "outputs": [],
   "source": [
    "# JL mechanism\n",
    "def JL(G):\n",
    "    r = 800*n\n",
    "    w = 660*np.sqrt(n)\n",
    "    for i in range(0,n):\n",
    "        for j in range(0,n):\n",
    "            if i<j:\n",
    "                if G.has_edge(i,j):\n",
    "                    G[i][j]['weight']  += w/n\n",
    "                else:\n",
    "                    G.add_edge(i, j, weight = w/n)\n",
    "    E = construct_edge_matrix(G)\n",
    "    s = np.random.normal(0, 1, size = (r, n*(n-1)//2))\n",
    "    tmp = np.dot(s,E)\n",
    "    return (1/r)*np.dot(tmp.T, tmp)\n",
    "        "
   ]
  },
  {
   "cell_type": "code",
   "execution_count": 16,
   "metadata": {},
   "outputs": [
    {
     "name": "stdout",
     "output_type": "stream",
     "text": [
      "Time of ours:  0.46400054200000795\n",
      "87818\n",
      "error of ours:  4754.367218662789\n"
     ]
    }
   ],
   "source": [
    "# Testing time\n",
    "import timeit\n",
    "G1 = copy.deepcopy(G)\n",
    "start = timeit.default_timer()\n",
    "alg(G1)\n",
    "stop = timeit.default_timer()\n",
    "print('Time of ours: ', stop - start)\n",
    "print(G1.number_of_edges())\n",
    "\n",
    "\n",
    "#G2 = copy.deepcopy(G)\n",
    "#start = timeit.default_timer()\n",
    "#Gaussian(G2)\n",
    "#stop = timeit.default_timer()\n",
    "#print('Time of Gaussian: ', stop - start)\n",
    "#print(G2.number_of_edges())\n",
    "\n",
    "\n",
    "# Tesing accuracy\n",
    "L = nx.laplacian_matrix(G).toarray()\n",
    "L1 = nx.laplacian_matrix(G1).toarray()\n",
    "print('error of ours: ', LA.norm(L-L1,2))\n",
    "#L2 = nx.laplacian_matrix(G2).toarray()\n",
    "#print('error of Gaussian: ', LA.norm(L-L2,2))\n"
   ]
  },
  {
   "cell_type": "code",
   "execution_count": 9,
   "metadata": {},
   "outputs": [
    {
     "name": "stdout",
     "output_type": "stream",
     "text": [
      "2.948819675788478\n"
     ]
    }
   ],
   "source": [
    "#test syntax\n",
    "print(np.abs(np.random.laplace(0, 1)))"
   ]
  }
 ],
 "metadata": {
  "kernelspec": {
   "display_name": "base",
   "language": "python",
   "name": "python3"
  },
  "language_info": {
   "codemirror_mode": {
    "name": "ipython",
    "version": 3
   },
   "file_extension": ".py",
   "mimetype": "text/x-python",
   "name": "python",
   "nbconvert_exporter": "python",
   "pygments_lexer": "ipython3",
   "version": "3.8.5"
  }
 },
 "nbformat": 4,
 "nbformat_minor": 2
}
